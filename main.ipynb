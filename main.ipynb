{
 "cells": [
  {
   "cell_type": "code",
   "execution_count": 136,
   "id": "627d05a7",
   "metadata": {},
   "outputs": [],
   "source": [
    "# Player Similiarity Program\n",
    "import pandas as pd\n",
    "import numpy as np\n",
    "import polars as pl\n",
    "from api_scraper import MLB_Scrape\n",
    "\n",
    "# Set display options to print all columns without truncation\n",
    "pd.set_option(\"display.max_columns\", None)  # Ensure all columns are displayed\n",
    "pd.set_option(\"display.max_rows\", None)  # Ensure all rows are displayed\n",
    "pd.set_option(\"display.width\", None)  # Remove column width limit"
   ]
  },
  {
   "cell_type": "code",
   "execution_count": 137,
   "id": "e961c461",
   "metadata": {},
   "outputs": [],
   "source": [
    "ab_flag_dict = {'Walk':0, 'Field Error': 1, 'Caught Stealing Home': 0, 'Strikeout Double Play': 1,\n",
    "                'Sac Fly Double Play': 0,   'Hit By Pitch': 0, 'Runner Out': 0, 'Triple Play': 1, \n",
    "                'Field Out': 1, 'Flyout': 1, 'Bunt Lineout': 1, 'Catcher Interference': 0, 'Fielders Choice': 1,\n",
    "                'Sac Bunt': 0, 'Pop Out': 1, 'Caught Stealing 2B': 0, 'Fielders Choice Out': 1, 'Stolen Base 2B': 0,\n",
    "                'Sac Fly': 0, 'Groundout': 1, 'Home Run': 1, 'Caught Stealing 3B': 0, 'Intent Walk': 0, 'Double Play': 1,\n",
    "                'Grounded Into DP': 1, 'Forceout': 1, 'Lineout': 1, 'Single': 1, 'Triple': 1, 'Wild Pitch': 0, 'Double': 1,\n",
    "                'Strikeout': 1, 'Bunt Groundout': 0, 'Bunt Pop Out': 0}\n",
    "\n",
    "ab_events = [event for event, flag in ab_flag_dict.items() if flag == 1]\n",
    "\n",
    "pa_flag_dict = {'Walk':1, 'Field Error': 1, 'Caught Stealing Home': 0, 'Strikeout Double Play': 1,\n",
    "                'Sac Fly Double Play': 1,   'Hit By Pitch': 1, 'Runner Out': 0, 'Triple Play': 1, \n",
    "                'Field Out': 1, 'Flyout': 1, 'Bunt Lineout': 1, 'Catcher Interference': 1, 'Fielders Choice': 1,\n",
    "                'Sac Bunt': 1, 'Pop Out': 1, 'Caught Stealing 2B': 0, 'Fielders Choice Out': 1, 'Stolen Base 2B': 0,\n",
    "                'Sac Fly': 1, 'Groundout': 1, 'Home Run': 1, 'Caught Stealing 3B': 0, 'Intent Walk': 1, 'Double Play': 1,\n",
    "                'Grounded Into DP': 1, 'Forceout': 1, 'Lineout': 1, 'Single': 1, 'Triple': 1, 'Wild Pitch': 0, 'Double': 1,\n",
    "                'Strikeout': 1, 'Bunt Groundout': 1, 'Bunt Pop Out': 1}\n",
    "\n",
    "pa_events = [event for event, flag in pa_flag_dict.items() if flag == 1]\n",
    "\n",
    "hit_flag_dict = {'Walk':0, 'Field Error': 0, 'Caught Stealing Home': 0, 'Strikeout Double Play': 0,\n",
    "                'Sac Fly Double Play': 0,   'Hit By Pitch': 0, 'Runner Out': 0, 'Triple Play': 0, \n",
    "                'Field Out': 0, 'Flyout': 0, 'Bunt Lineout': 0, 'Catcher Interference': 0, 'Fielders Choice': 0,\n",
    "                'Sac Bunt': 0, 'Pop Out': 0, 'Caught Stealing 2B': 0, 'Fielders Choice Out': 0, 'Stolen Base 2B': 0,\n",
    "                'Sac Fly': 0, 'Groundout': 0, 'Home Run': 1, 'Caught Stealing 3B': 0, 'Intent Walk': 0, 'Double Play': 0,\n",
    "                'Grounded Into DP': 0, 'Forceout': 0, 'Lineout': 0, 'Single': 1, 'Triple': 1, 'Wild Pitch': 0, 'Double': 1,\n",
    "                'Strikeout': 0, 'Bunt Groundout': 0, 'Bunt Pop Out': 0}\n",
    "\n",
    "hit_events = [event for event, flag in hit_flag_dict.items() if flag == 1]\n",
    "\n",
    "obp_denom_dict = {\n",
    "    event: 1 for event in ab_flag_dict if ab_flag_dict[event] == 1  # ABs\n",
    "}\n",
    "# Include BB, HBP, SF explicitly\n",
    "for event in [\"Walk\", \"Intent Walk\", \"Hit By Pitch\", \"Sac Fly\"]:\n",
    "    obp_denom_dict[event] = 1\n",
    "\n",
    "# Exclude Sac Bunt if it was included\n",
    "if \"Sac Bunt\" in obp_denom_dict:\n",
    "    obp_denom_dict[\"Sac Bunt\"] = 0\n",
    "\n",
    "# Create a list of events to use in counting\n",
    "obp_denom_events = [event for event, flag in obp_denom_dict.items() if flag == 1]"
   ]
  },
  {
   "cell_type": "code",
   "execution_count": 138,
   "id": "7c117896",
   "metadata": {},
   "outputs": [],
   "source": [
    "data = pl.read_csv(\"2025_data.csv\")\n",
    "\n",
    "batters = pl.read_csv(\"batter_id.csv\")"
   ]
  },
  {
   "cell_type": "code",
   "execution_count": null,
   "id": "2fff948c",
   "metadata": {},
   "outputs": [
    {
     "name": "stdout",
     "output_type": "stream",
     "text": [
      "2 7\n"
     ]
    },
    {
     "data": {
      "text/html": [
       "<div><style>\n",
       ".dataframe > thead > tr,\n",
       ".dataframe > tbody > tr {\n",
       "  text-align: right;\n",
       "  white-space: pre-wrap;\n",
       "}\n",
       "</style>\n",
       "<small>shape: (7, 79)</small><table border=\"1\" class=\"dataframe\"><thead><tr><th>game_id</th><th>game_date</th><th>batter_id</th><th>batter_name</th><th>batter_hand</th><th>batter_team</th><th>batter_team_id</th><th>pitcher_id</th><th>pitcher_name</th><th>pitcher_hand</th><th>pitcher_team</th><th>pitcher_team_id</th><th>ab_number</th><th>inning</th><th>play_description</th><th>play_code</th><th>in_play</th><th>is_strike</th><th>is_swing</th><th>is_whiff</th><th>is_out</th><th>is_ball</th><th>is_review</th><th>pitch_type</th><th>pitch_description</th><th>strikes</th><th>balls</th><th>outs</th><th>strikes_after</th><th>balls_after</th><th>outs_after</th><th>start_speed</th><th>end_speed</th><th>sz_top</th><th>sz_bot</th><th>x</th><th>y</th><th>&hellip;</th><th>px</th><th>pz</th><th>vx0</th><th>vy0</th><th>vz0</th><th>x0</th><th>y0</th><th>z0</th><th>zone</th><th>type_confidence</th><th>plate_time</th><th>extension</th><th>spin_rate</th><th>spin_direction</th><th>vb</th><th>ivb</th><th>hb</th><th>launch_speed</th><th>launch_angle</th><th>launch_distance</th><th>launch_location</th><th>trajectory</th><th>hardness</th><th>hit_x</th><th>hit_y</th><th>index_play</th><th>play_id</th><th>start_time</th><th>end_time</th><th>is_pitch</th><th>type_type</th><th>type_ab</th><th>event</th><th>event_type</th><th>rbi</th><th>away_score</th><th>home_score</th></tr><tr><td>i64</td><td>str</td><td>i64</td><td>str</td><td>str</td><td>str</td><td>i64</td><td>i64</td><td>str</td><td>str</td><td>str</td><td>i64</td><td>i64</td><td>i64</td><td>str</td><td>str</td><td>bool</td><td>bool</td><td>bool</td><td>bool</td><td>bool</td><td>bool</td><td>bool</td><td>str</td><td>str</td><td>i64</td><td>i64</td><td>i64</td><td>i64</td><td>i64</td><td>i64</td><td>f64</td><td>f64</td><td>f64</td><td>f64</td><td>f64</td><td>f64</td><td>&hellip;</td><td>f64</td><td>f64</td><td>f64</td><td>f64</td><td>f64</td><td>f64</td><td>f64</td><td>f64</td><td>i64</td><td>f64</td><td>f64</td><td>f64</td><td>i64</td><td>i64</td><td>f64</td><td>f64</td><td>f64</td><td>f64</td><td>i64</td><td>i64</td><td>i64</td><td>str</td><td>str</td><td>f64</td><td>f64</td><td>i64</td><td>str</td><td>str</td><td>str</td><td>bool</td><td>str</td><td>str</td><td>str</td><td>str</td><td>i64</td><td>i64</td><td>i64</td></tr></thead><tbody><tr><td>777934</td><td>&quot;5/13/2025&quot;</td><td>694671</td><td>&quot;Wyatt Langford&quot;</td><td>&quot;R&quot;</td><td>&quot;TEX&quot;</td><td>140</td><td>607536</td><td>&quot;Kyle Freeland&quot;</td><td>&quot;L&quot;</td><td>&quot;COL&quot;</td><td>115</td><td>21</td><td>3</td><td>&quot;In play, out(s)&quot;</td><td>&quot;X&quot;</td><td>true</td><td>false</td><td>true</td><td>null</td><td>true</td><td>true</td><td>false</td><td>&quot;KC&quot;</td><td>&quot;Knuckle Curve&quot;</td><td>2</td><td>2</td><td>0</td><td>2</td><td>2</td><td>0</td><td>82.3</td><td>75.9</td><td>3.409754</td><td>1.589679</td><td>102.5</td><td>191.69</td><td>&hellip;</td><td>0.3803</td><td>1.7440752</td><td>-4.359748</td><td>-119.84099</td><td>-1.10053</td><td>2.490531</td><td>50.002903</td><td>5.711447</td><td>9</td><td>2.0</td><td>0.457433</td><td>6.668361</td><td>2483</td><td>321</td><td>-49.1</td><td>-8.6</td><td>4.8</td><td>104.3</td><td>8</td><td>150</td><td>6</td><td>&quot;line_drive&quot;</td><td>&quot;hard&quot;</td><td>108.87</td><td>144.16</td><td>5</td><td>&quot;3e831b75-3af9-375c-9ef8-593ce4…</td><td>&quot;2025-05-14T00:52:58.624Z&quot;</td><td>&quot;2025-05-14T00:53:05.489Z&quot;</td><td>true</td><td>&quot;pitch&quot;</td><td>&quot;atBat&quot;</td><td>&quot;Lineout&quot;</td><td>&quot;field_out&quot;</td><td>0</td><td>1</td><td>3</td></tr><tr><td>777646</td><td>&quot;6/4/2025&quot;</td><td>694671</td><td>&quot;Wyatt Langford&quot;</td><td>&quot;R&quot;</td><td>&quot;TEX&quot;</td><td>140</td><td>669358</td><td>&quot;Shane Baz&quot;</td><td>&quot;R&quot;</td><td>&quot;TB&quot;</td><td>139</td><td>1</td><td>1</td><td>&quot;In play, no out&quot;</td><td>&quot;D&quot;</td><td>true</td><td>false</td><td>true</td><td>null</td><td>false</td><td>false</td><td>false</td><td>&quot;KC&quot;</td><td>&quot;Knuckle Curve&quot;</td><td>2</td><td>1</td><td>1</td><td>2</td><td>1</td><td>1</td><td>85.3</td><td>78.9</td><td>3.44</td><td>1.66</td><td>110.77</td><td>174.31</td><td>&hellip;</td><td>0.163449</td><td>2.387929</td><td>2.158318</td><td>-124.21026</td><td>-0.030689</td><td>-1.3149</td><td>50.003165</td><td>5.974817</td><td>5</td><td>0.9</td><td>0.440538</td><td>6.268844</td><td>2739</td><td>36</td><td>-49.8</td><td>-12.4</td><td>-8.9</td><td>96.3</td><td>-14</td><td>11</td><td>6</td><td>&quot;ground_ball&quot;</td><td>&quot;medium&quot;</td><td>107.22</td><td>157.76</td><td>3</td><td>&quot;d7eed651-6a86-37ea-86f9-a4b928…</td><td>&quot;2025-06-04T23:38:50.671Z&quot;</td><td>&quot;2025-06-04T23:38:59.326Z&quot;</td><td>true</td><td>&quot;pitch&quot;</td><td>&quot;atBat&quot;</td><td>&quot;Field Error&quot;</td><td>&quot;field_error&quot;</td><td>0</td><td>0</td><td>0</td></tr><tr><td>777646</td><td>&quot;6/4/2025&quot;</td><td>694671</td><td>&quot;Wyatt Langford&quot;</td><td>&quot;R&quot;</td><td>&quot;TEX&quot;</td><td>140</td><td>669358</td><td>&quot;Shane Baz&quot;</td><td>&quot;R&quot;</td><td>&quot;TB&quot;</td><td>139</td><td>18</td><td>3</td><td>&quot;Called Strike&quot;</td><td>&quot;C&quot;</td><td>false</td><td>true</td><td>null</td><td>null</td><td>true</td><td>true</td><td>false</td><td>&quot;KC&quot;</td><td>&quot;Knuckle Curve&quot;</td><td>2</td><td>0</td><td>2</td><td>3</td><td>0</td><td>2</td><td>86.7</td><td>80.4</td><td>3.440001</td><td>1.560931</td><td>96.39</td><td>150.3</td><td>&hellip;</td><td>0.540683</td><td>3.277138</td><td>2.986588</td><td>-126.339933</td><td>2.425588</td><td>-1.178084</td><td>50.002581</td><td>5.935725</td><td>3</td><td>0.9</td><td>0.432469</td><td>6.409653</td><td>2697</td><td>30</td><td>-50.0</td><td>-14.0</td><td>-7.9</td><td>null</td><td>null</td><td>null</td><td>null</td><td>null</td><td>null</td><td>null</td><td>null</td><td>3</td><td>&quot;8973ad2a-65ff-3769-bf98-4c1b1e…</td><td>&quot;2025-06-05T00:16:02.363Z&quot;</td><td>&quot;2025-06-05T00:16:05.467Z&quot;</td><td>true</td><td>&quot;pitch&quot;</td><td>&quot;atBat&quot;</td><td>&quot;Strikeout&quot;</td><td>&quot;strikeout&quot;</td><td>0</td><td>0</td><td>1</td></tr><tr><td>777646</td><td>&quot;6/4/2025&quot;</td><td>694671</td><td>&quot;Wyatt Langford&quot;</td><td>&quot;R&quot;</td><td>&quot;TEX&quot;</td><td>140</td><td>669358</td><td>&quot;Shane Baz&quot;</td><td>&quot;R&quot;</td><td>&quot;TB&quot;</td><td>139</td><td>41</td><td>5</td><td>&quot;In play, run(s)&quot;</td><td>&quot;E&quot;</td><td>true</td><td>false</td><td>true</td><td>null</td><td>false</td><td>false</td><td>false</td><td>&quot;KC&quot;</td><td>&quot;Knuckle Curve&quot;</td><td>2</td><td>2</td><td>2</td><td>2</td><td>2</td><td>2</td><td>85.8</td><td>79.4</td><td>3.44</td><td>1.66</td><td>110.21</td><td>179.76</td><td>&hellip;</td><td>0.178052</td><td>2.18594</td><td>2.260868</td><td>-124.996711</td><td>-0.394649</td><td>-1.445219</td><td>50.001625</td><td>5.808248</td><td>8</td><td>0.89</td><td>0.437973</td><td>6.498596</td><td>2711</td><td>26</td><td>-48.4</td><td>-11.3</td><td>-10.3</td><td>103.1</td><td>14</td><td>227</td><td>7</td><td>&quot;line_drive&quot;</td><td>&quot;hard&quot;</td><td>44.78</td><td>114.99</td><td>5</td><td>&quot;694fdb6b-2c33-33e8-925a-9c19bc…</td><td>&quot;2025-06-05T01:07:50.273Z&quot;</td><td>&quot;2025-06-05T01:08:04.234Z&quot;</td><td>true</td><td>&quot;pitch&quot;</td><td>&quot;atBat&quot;</td><td>&quot;Double&quot;</td><td>&quot;double&quot;</td><td>1</td><td>3</td><td>5</td></tr><tr><td>777180</td><td>&quot;7/8/2025&quot;</td><td>694671</td><td>&quot;Wyatt Langford&quot;</td><td>&quot;R&quot;</td><td>&quot;TEX&quot;</td><td>140</td><td>667755</td><td>&quot;José Soriano&quot;</td><td>&quot;R&quot;</td><td>&quot;LAA&quot;</td><td>108</td><td>26</td><td>4</td><td>&quot;In play, run(s)&quot;</td><td>&quot;E&quot;</td><td>true</td><td>false</td><td>true</td><td>null</td><td>false</td><td>false</td><td>false</td><td>&quot;KC&quot;</td><td>&quot;Knuckle Curve&quot;</td><td>0</td><td>0</td><td>1</td><td>0</td><td>0</td><td>1</td><td>85.4</td><td>78.8</td><td>3.48</td><td>1.66</td><td>103.52</td><td>176.35</td><td>&hellip;</td><td>0.3535519</td><td>2.312229</td><td>0.66552</td><td>-124.365805</td><td>-1.527183</td><td>-0.967051</td><td>50.003298</td><td>6.043649</td><td>6</td><td>0.9</td><td>0.440548</td><td>6.60363</td><td>2565</td><td>25</td><td>-43.7</td><td>-6.2</td><td>-14.8</td><td>88.9</td><td>0</td><td>47</td><td>7</td><td>&quot;ground_ball&quot;</td><td>&quot;medium&quot;</td><td>42.51</td><td>112.54</td><td>1</td><td>&quot;1565110d-d56f-3213-bb45-d02fd4…</td><td>&quot;2025-07-09T02:25:34.547Z&quot;</td><td>&quot;2025-07-09T02:25:45.219Z&quot;</td><td>true</td><td>&quot;pitch&quot;</td><td>&quot;atBat&quot;</td><td>&quot;Double&quot;</td><td>&quot;double&quot;</td><td>2</td><td>2</td><td>1</td></tr><tr><td>777088</td><td>&quot;7/19/2025&quot;</td><td>694671</td><td>&quot;Wyatt Langford&quot;</td><td>&quot;R&quot;</td><td>&quot;TEX&quot;</td><td>140</td><td>672456</td><td>&quot;Keider Montero&quot;</td><td>&quot;R&quot;</td><td>&quot;DET&quot;</td><td>116</td><td>12</td><td>2</td><td>&quot;In play, out(s)&quot;</td><td>&quot;X&quot;</td><td>true</td><td>false</td><td>true</td><td>null</td><td>true</td><td>true</td><td>false</td><td>&quot;KC&quot;</td><td>&quot;Knuckle Curve&quot;</td><td>2</td><td>2</td><td>0</td><td>2</td><td>2</td><td>0</td><td>80.4</td><td>73.6</td><td>3.51</td><td>1.69</td><td>95.52</td><td>207.72</td><td>&hellip;</td><td>0.563618</td><td>1.150382</td><td>3.843533</td><td>-117.036221</td><td>-2.091174</td><td>-1.942401</td><td>50.004473</td><td>5.840237</td><td>14</td><td>0.9</td><td>0.470979</td><td>6.177795</td><td>3068</td><td>38</td><td>-53.2</td><td>-10.3</td><td>-12.7</td><td>86.9</td><td>-22</td><td>4</td><td>6</td><td>&quot;ground_ball&quot;</td><td>&quot;medium&quot;</td><td>121.85</td><td>162.73</td><td>6</td><td>&quot;8520fc04-71a9-3249-8b58-7d9521…</td><td>&quot;2025-07-19T23:32:57.162Z&quot;</td><td>&quot;2025-07-19T23:33:04.188Z&quot;</td><td>true</td><td>&quot;pitch&quot;</td><td>&quot;atBat&quot;</td><td>&quot;Forceout&quot;</td><td>&quot;force_out&quot;</td><td>0</td><td>0</td><td>0</td></tr><tr><td>776468</td><td>&quot;9/3/2025&quot;</td><td>694671</td><td>&quot;Wyatt Langford&quot;</td><td>&quot;R&quot;</td><td>&quot;TEX&quot;</td><td>140</td><td>668678</td><td>&quot;Zac Gallen&quot;</td><td>&quot;R&quot;</td><td>&quot;AZ&quot;</td><td>109</td><td>20</td><td>3</td><td>&quot;In play, out(s)&quot;</td><td>&quot;X&quot;</td><td>true</td><td>false</td><td>true</td><td>null</td><td>true</td><td>true</td><td>false</td><td>&quot;KC&quot;</td><td>&quot;Knuckle Curve&quot;</td><td>1</td><td>0</td><td>1</td><td>1</td><td>0</td><td>1</td><td>81.0</td><td>75.0</td><td>3.36</td><td>1.58</td><td>128.95</td><td>208.94</td><td>&hellip;</td><td>-0.313536</td><td>1.105017</td><td>4.915294</td><td>-117.878544</td><td>-2.212355</td><td>-2.6331</td><td>50.000063</td><td>5.923317</td><td>13</td><td>2.0</td><td>0.465249</td><td>6.49714</td><td>2480</td><td>40</td><td>-54.5</td><td>-12.6</td><td>-4.1</td><td>37.0</td><td>-47</td><td>2</td><td>2</td><td>&quot;ground_ball&quot;</td><td>&quot;soft&quot;</td><td>128.9</td><td>200.47</td><td>1</td><td>&quot;ddc47db4-e67d-3128-9cae-faa05f…</td><td>&quot;2025-09-03T20:21:58.180Z&quot;</td><td>&quot;2025-09-03T20:22:06.797Z&quot;</td><td>true</td><td>&quot;pitch&quot;</td><td>&quot;atBat&quot;</td><td>&quot;Groundout&quot;</td><td>&quot;field_out&quot;</td><td>0</td><td>0</td><td>2</td></tr></tbody></table></div>"
      ],
      "text/plain": [
       "shape: (7, 79)\n",
       "┌─────────┬───────────┬───────────┬──────────────┬───┬─────────────┬─────┬────────────┬────────────┐\n",
       "│ game_id ┆ game_date ┆ batter_id ┆ batter_name  ┆ … ┆ event_type  ┆ rbi ┆ away_score ┆ home_score │\n",
       "│ ---     ┆ ---       ┆ ---       ┆ ---          ┆   ┆ ---         ┆ --- ┆ ---        ┆ ---        │\n",
       "│ i64     ┆ str       ┆ i64       ┆ str          ┆   ┆ str         ┆ i64 ┆ i64        ┆ i64        │\n",
       "╞═════════╪═══════════╪═══════════╪══════════════╪═══╪═════════════╪═════╪════════════╪════════════╡\n",
       "│ 777934  ┆ 5/13/2025 ┆ 694671    ┆ Wyatt        ┆ … ┆ field_out   ┆ 0   ┆ 1          ┆ 3          │\n",
       "│         ┆           ┆           ┆ Langford     ┆   ┆             ┆     ┆            ┆            │\n",
       "│ 777646  ┆ 6/4/2025  ┆ 694671    ┆ Wyatt        ┆ … ┆ field_error ┆ 0   ┆ 0          ┆ 0          │\n",
       "│         ┆           ┆           ┆ Langford     ┆   ┆             ┆     ┆            ┆            │\n",
       "│ 777646  ┆ 6/4/2025  ┆ 694671    ┆ Wyatt        ┆ … ┆ strikeout   ┆ 0   ┆ 0          ┆ 1          │\n",
       "│         ┆           ┆           ┆ Langford     ┆   ┆             ┆     ┆            ┆            │\n",
       "│ 777646  ┆ 6/4/2025  ┆ 694671    ┆ Wyatt        ┆ … ┆ double      ┆ 1   ┆ 3          ┆ 5          │\n",
       "│         ┆           ┆           ┆ Langford     ┆   ┆             ┆     ┆            ┆            │\n",
       "│ 777180  ┆ 7/8/2025  ┆ 694671    ┆ Wyatt        ┆ … ┆ double      ┆ 2   ┆ 2          ┆ 1          │\n",
       "│         ┆           ┆           ┆ Langford     ┆   ┆             ┆     ┆            ┆            │\n",
       "│ 777088  ┆ 7/19/2025 ┆ 694671    ┆ Wyatt        ┆ … ┆ force_out   ┆ 0   ┆ 0          ┆ 0          │\n",
       "│         ┆           ┆           ┆ Langford     ┆   ┆             ┆     ┆            ┆            │\n",
       "│ 776468  ┆ 9/3/2025  ┆ 694671    ┆ Wyatt        ┆ … ┆ field_out   ┆ 0   ┆ 0          ┆ 2          │\n",
       "│         ┆           ┆           ┆ Langford     ┆   ┆             ┆     ┆            ┆            │\n",
       "└─────────┴───────────┴───────────┴──────────────┴───┴─────────────┴─────┴────────────┴────────────┘"
      ]
     },
     "execution_count": 159,
     "metadata": {},
     "output_type": "execute_result"
    }
   ],
   "source": [
    "player_name = \"Wyatt Langford\"\n",
    "\n",
    "player_data = data.filter(pl.col(\"batter_name\") == player_name)\n",
    "\n",
    "player_ab_data = player_data.filter(pl.col(\"event\").is_in(ab_events))\n",
    "\n",
    "player_pa_data = player_data.filter(pl.col(\"event\").is_in(pa_events))\n",
    "\n",
    "player_hit_data = player_data.filter(pl.col(\"event\").is_in(hit_events))\n",
    "\n",
    "'''bughit = player_data.filter((pl.col(\"pitch_description\") == \"Knuckle Curve\") & (pl.col(\"event\").is_in(hit_events)))\n",
    "bugab = player_data.filter((pl.col(\"pitch_description\") == \"Knuckle Curve\") & (pl.col(\"event\").is_in(ab_events)))\n",
    "\n",
    "hits = bughit.height\n",
    "abs = bugab.height\n",
    "\n",
    "print(hits, abs)\n",
    "\n",
    "bugab'''"
   ]
  },
  {
   "cell_type": "code",
   "execution_count": 140,
   "id": "d62bfe04",
   "metadata": {},
   "outputs": [
    {
     "name": "stdout",
     "output_type": "stream",
     "text": [
      "Wyatt Langford - AVG: 0.241, OBP: 0.344, SLG: 0.431, OPS: 0.775\n"
     ]
    }
   ],
   "source": [
    "# Filter data for the player\n",
    "player_data = data.filter(pl.col(\"batter_name\") == player_name)\n",
    "\n",
    "# Helper function for counting events\n",
    "def count_player_events(events):\n",
    "    return player_data.filter(pl.col(\"event\").is_in(events)).height\n",
    "\n",
    "# Count ABs, Hits, OBP denominator (exclude Sac Bunt)\n",
    "num_ab = count_player_events(ab_events)\n",
    "num_hits = count_player_events(hit_events)\n",
    "obp_denom = count_player_events(obp_denom_events)\n",
    "\n",
    "# Batting Average\n",
    "batting_average = round(num_hits / num_ab if num_ab > 0 else 0, 3)\n",
    "\n",
    "# On-Base Percentage\n",
    "on_base_percentage = round(\n",
    "    (num_hits + count_player_events([\"Walk\",\"Intent Walk\" ,\"Hit By Pitch\"])) / obp_denom if obp_denom > 0 else 0,\n",
    "    3\n",
    ")\n",
    "\n",
    "# Slugging Percentage\n",
    "slugging_percentage = round(\n",
    "    (1*count_player_events([\"Single\"]) + 2*count_player_events([\"Double\"]) +\n",
    "     3*count_player_events([\"Triple\"]) + 4*count_player_events([\"Home Run\"])) / num_ab if num_ab > 0 else 0,\n",
    "    3\n",
    ")\n",
    "\n",
    "# OPS (On-base Plus Slugging)\n",
    "ops = round(on_base_percentage + slugging_percentage, 3)\n",
    "\n",
    "# Output\n",
    "print(f\"{player_name} - AVG: {batting_average}, OBP: {on_base_percentage}, SLG: {slugging_percentage}, OPS: {ops}\")\n"
   ]
  },
  {
   "cell_type": "code",
   "execution_count": null,
   "id": "2398b959",
   "metadata": {},
   "outputs": [],
   "source": [
    "fastball_dict = {'Four-Seam Fastball': 1, 'Sinker': 1, 'Cutter': 1}\n",
    "\n",
    "offspeed_dict = {'Splitter': 1, 'Changeup': 1, 'Forkball': 1, 'Screwball': 1}\n",
    "\n",
    "breaking_dict = {'Curveball': 1, 'Knuckle Ball': 1, 'Knuckle Curve': 1, 'Slider': 1, \n",
    "                 'Sweeper': 1, 'Slurve': 1, 'Slow Curve': 1}"
   ]
  },
  {
   "cell_type": "code",
   "execution_count": 160,
   "id": "64a48731",
   "metadata": {},
   "outputs": [
    {
     "name": "stdout",
     "output_type": "stream",
     "text": [
      "Wyatt Langford - AVG: 0.241, OBP: 0.344, SLG: 0.431, OPS: 0.775\n",
      "Fastball Stats: {'AVG': 0.248, 'OBP': 0.359, 'SLG': 0.483, 'OPS': 0.842}\n",
      "Breaking Ball Stats: {'AVG': 0.252, 'OBP': 0.321, 'SLG': 0.366, 'OPS': 0.687}\n",
      "Offspeed Stats: {'AVG': 0.178, 'OBP': 0.286, 'SLG': 0.288, 'OPS': 0.574}\n"
     ]
    }
   ],
   "source": [
    "# Helper function to calculate pitch group stats\n",
    "def calculate_pitch_group_stats(pitch_dict):\n",
    "    def count_events(events):\n",
    "        return player_data.filter(\n",
    "            pl.col(\"pitch_description\").is_in(pitch_dict) &\n",
    "            pl.col(\"event\").is_in(events)\n",
    "        ).height\n",
    "    \n",
    "    # ABs, Hits, and OBP denominator (exclude sac bunts)\n",
    "    num_ab = count_events(ab_events)\n",
    "    num_hits = count_events(hit_events)\n",
    "    obp_denom = count_events(obp_denom_events)\n",
    "    \n",
    "    # Batting Average\n",
    "    avg = round(num_hits / num_ab if num_ab > 0 else 0, 3)\n",
    "    \n",
    "    # On-Base Percentage\n",
    "    obp = round(\n",
    "        (num_hits + count_events([\"Walk\", \"Intent Walk\", \"Hit By Pitch\"])) / obp_denom if obp_denom > 0 else 0,\n",
    "        3\n",
    "    )\n",
    "    \n",
    "    # Slugging Percentage\n",
    "    slg = round(\n",
    "        (1*count_events([\"Single\"]) + 2*count_events([\"Double\"]) +\n",
    "         3*count_events([\"Triple\"]) + 4*count_events([\"Home Run\"])) / num_ab if num_ab > 0 else 0,\n",
    "        3\n",
    "    )\n",
    "\n",
    "    ops = round(obp + slg, 3)\n",
    "\n",
    "    return {\"AVG\": avg, \"OBP\": obp, \"SLG\": slg, \"OPS\": ops}\n",
    "\n",
    "# Calculate stats for each pitch group\n",
    "fastball_stats = calculate_pitch_group_stats(fastball_dict)\n",
    "breaking_stats = calculate_pitch_group_stats(breaking_dict)\n",
    "offspeed_stats = calculate_pitch_group_stats(offspeed_dict)\n",
    "\n",
    "print(f\"{player_name} - AVG: {batting_average}, OBP: {on_base_percentage}, SLG: {slugging_percentage}, OPS: {ops}\")\n",
    "print(\"Fastball Stats:\", fastball_stats)\n",
    "print(\"Breaking Ball Stats:\", breaking_stats)\n",
    "print(\"Offspeed Stats:\", offspeed_stats)\n"
   ]
  }
 ],
 "metadata": {
  "kernelspec": {
   "display_name": "Python 3",
   "language": "python",
   "name": "python3"
  },
  "language_info": {
   "codemirror_mode": {
    "name": "ipython",
    "version": 3
   },
   "file_extension": ".py",
   "mimetype": "text/x-python",
   "name": "python",
   "nbconvert_exporter": "python",
   "pygments_lexer": "ipython3",
   "version": "3.10.6"
  }
 },
 "nbformat": 4,
 "nbformat_minor": 5
}
