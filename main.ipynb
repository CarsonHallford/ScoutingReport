{
 "cells": [
  {
   "cell_type": "code",
   "execution_count": 1,
   "id": "627d05a7",
   "metadata": {},
   "outputs": [],
   "source": [
    "# Player Similiarity Program\n",
    "import pandas as pd\n",
    "import numpy as np\n",
    "import polars as pl\n",
    "from api_scraper import MLB_Scrape\n",
    "\n",
    "# Set display options to print all columns without truncation\n",
    "pd.set_option(\"display.max_columns\", None)  # Ensure all columns are displayed\n",
    "pd.set_option(\"display.max_rows\", None)  # Ensure all rows are displayed\n",
    "pd.set_option(\"display.width\", None)  # Remove column width limit"
   ]
  },
  {
   "cell_type": "code",
   "execution_count": 16,
   "id": "e961c461",
   "metadata": {},
   "outputs": [],
   "source": [
    "ab_flag_dict = {'Walk':0, 'Field Error': 1, 'Caught Stealing Home': 0, 'Strikeout Double Play': 1,\n",
    "                'Sac Fly Double Play': 0,   'Hit By Pitch': 0, 'Runner Out': 0, 'Triple Play': 1, \n",
    "                'Field Out': 1, 'Flyout': 1, 'Bunt Lineout': 1, 'Catcher Interference': 0, 'Fielders Choice': 1,\n",
    "                'Sac Bunt': 0, 'Pop Out': 1, 'Caught Stealing 2B': 0, 'Fielders Choice Out': 1, 'Stolen Base 2B': 0,\n",
    "                'Sac Fly': 0, 'Groundout': 1, 'Home Run': 1, 'Caught Stealing 3B': 0, 'Intent Walk': 0, 'Double Play': 1,\n",
    "                'Grounded Into DP': 1, 'Forceout': 1, 'Lineout': 1, 'Single': 1, 'Triple': 1, 'Wild Pitch': 0, 'Double': 1,\n",
    "                'Strikeout': 1, 'Bunt Groundout': 0, 'Bunt Pop Out': 0}\n",
    "\n",
    "ab_events = [event for event, flag in ab_flag_dict.items() if flag == 1]\n",
    "\n",
    "pa_flag_dict = {'Walk':1, 'Field Error': 1, 'Caught Stealing Home': 0, 'Strikeout Double Play': 1,\n",
    "                'Sac Fly Double Play': 1,   'Hit By Pitch': 1, 'Runner Out': 0, 'Triple Play': 1, \n",
    "                'Field Out': 1, 'Flyout': 1, 'Bunt Lineout': 1, 'Catcher Interference': 1, 'Fielders Choice': 1,\n",
    "                'Sac Bunt': 1, 'Pop Out': 1, 'Caught Stealing 2B': 0, 'Fielders Choice Out': 1, 'Stolen Base 2B': 0,\n",
    "                'Sac Fly': 1, 'Groundout': 1, 'Home Run': 1, 'Caught Stealing 3B': 0, 'Intent Walk': 1, 'Double Play': 1,\n",
    "                'Grounded Into DP': 1, 'Forceout': 1, 'Lineout': 1, 'Single': 1, 'Triple': 1, 'Wild Pitch': 0, 'Double': 1,\n",
    "                'Strikeout': 1, 'Bunt Groundout': 1, 'Bunt Pop Out': 1}\n",
    "\n",
    "pa_events = [event for event, flag in pa_flag_dict.items() if flag == 1]\n",
    "\n",
    "hit_flag_dict = {'Walk':0, 'Field Error': 0, 'Caught Stealing Home': 0, 'Strikeout Double Play': 0,\n",
    "                'Sac Fly Double Play': 0,   'Hit By Pitch': 0, 'Runner Out': 0, 'Triple Play': 0, \n",
    "                'Field Out': 0, 'Flyout': 0, 'Bunt Lineout': 0, 'Catcher Interference': 0, 'Fielders Choice': 0,\n",
    "                'Sac Bunt': 0, 'Pop Out': 0, 'Caught Stealing 2B': 0, 'Fielders Choice Out': 0, 'Stolen Base 2B': 0,\n",
    "                'Sac Fly': 0, 'Groundout': 0, 'Home Run': 1, 'Caught Stealing 3B': 0, 'Intent Walk': 0, 'Double Play': 0,\n",
    "                'Grounded Into DP': 0, 'Forceout': 0, 'Lineout': 0, 'Single': 1, 'Triple': 1, 'Wild Pitch': 0, 'Double': 1,\n",
    "                'Strikeout': 0, 'Bunt Groundout': 0, 'Bunt Pop Out': 0}\n",
    "\n",
    "hit_events = [event for event, flag in hit_flag_dict.items() if flag == 1]"
   ]
  },
  {
   "cell_type": "code",
   "execution_count": 55,
   "id": "7c117896",
   "metadata": {},
   "outputs": [],
   "source": [
    "data = pl.read_csv(\"2025_data.csv\")\n",
    "\n",
    "batters = pl.read_csv(\"batter_id.csv\")"
   ]
  },
  {
   "cell_type": "code",
   "execution_count": 57,
   "id": "2fff948c",
   "metadata": {},
   "outputs": [],
   "source": [
    "player_name = \"Wyatt Langford\"\n",
    "\n",
    "player_data = data.filter(pl.col(\"batter_name\") == player_name)\n",
    "\n",
    "player_ab_data = player_data.filter(pl.col(\"event\").is_in(ab_events))\n",
    "\n",
    "player_pa_data = player_data.filter(pl.col(\"event\").is_in(pa_events))\n",
    "\n",
    "player_hit_data = player_data.filter(pl.col(\"event\").is_in(hit_events))"
   ]
  },
  {
   "cell_type": "code",
   "execution_count": 58,
   "id": "d62bfe04",
   "metadata": {},
   "outputs": [
    {
     "data": {
      "text/plain": [
       "0.241"
      ]
     },
     "execution_count": 58,
     "metadata": {},
     "output_type": "execute_result"
    }
   ],
   "source": [
    "# Get number of at-bats and hits\n",
    "num_abs = player_ab_data.height\n",
    "num_hits = player_hit_data.height\n",
    "\n",
    "# Calculate batting average\n",
    "batting_average = (num_hits / num_abs if num_abs > 0 else 0)\n",
    "\n",
    "# Round to three decimal places\n",
    "batting_average = round(batting_average, 3)\n",
    "\n",
    "batting_average"
   ]
  },
  {
   "cell_type": "code",
   "execution_count": 59,
   "id": "2398b959",
   "metadata": {},
   "outputs": [],
   "source": [
    "fastball_dict = {'Four-Seam Fastball': 1, 'Sinker': 1, 'Cutter': 1}\n",
    "\n",
    "offspeed_dict = {'Splitter': 1, 'Changeup': 1, 'Forkball': 1, 'Screwball': 1}\n",
    "\n",
    "breaking_dict = {'Curveball': 1, 'Knuckle Ball': 1, 'Knuckle Curve': 1, 'Slider': 1, \n",
    "                 'Sweeper': 1, 'Slurve': 1, 'Slow Curve': 1}"
   ]
  },
  {
   "cell_type": "code",
   "execution_count": 79,
   "id": "ce46ee31",
   "metadata": {},
   "outputs": [
    {
     "name": "stdout",
     "output_type": "stream",
     "text": [
      "0.248\n",
      "0.359\n",
      "0.483\n",
      "0.842\n"
     ]
    }
   ],
   "source": [
    "fastball_ab_data = player_ab_data.filter(pl.col(\"pitch_description\").is_in(fastball_dict))\n",
    "fastball_hit_data = player_hit_data.filter(pl.col(\"pitch_description\").is_in(fastball_dict))\n",
    "\n",
    "def count_fastball_events(events):\n",
    "    return player_data.filter(\n",
    "        pl.col(\"pitch_description\").is_in(fastball_dict) &\n",
    "        pl.col(\"event\").is_in(events)\n",
    "    ).height\n",
    "\n",
    "fastball_num_abs = fastball_ab_data.height\n",
    "fastball_num_hits = fastball_hit_data.height\n",
    "\n",
    "fastball_slug = round(\n",
    "    (\n",
    "        fastball_hit_data.filter(pl.col(\"event\") == \"Single\").height +\n",
    "        2 * fastball_hit_data.filter(pl.col(\"event\") == \"Double\").height +\n",
    "        3 * fastball_hit_data.filter(pl.col(\"event\") == \"Triple\").height +\n",
    "        4 * fastball_hit_data.filter(pl.col(\"event\") == \"Home Run\").height\n",
    "    ) / fastball_num_abs,\n",
    "    3  # number of decimal places\n",
    ")\n",
    "\n",
    "fastball_obp = round(\n",
    "    (fastball_num_hits + count_fastball_events([\"Walk\", \"Hit By Pitch\"])) /\n",
    "    (fastball_num_abs + count_fastball_events([\"Walk\", \"Hit By Pitch\", \"Sac Fly\", \"Sac Bunt\"])),\n",
    "    3\n",
    ")\n",
    "\n",
    "fastball_batting_average = (fastball_num_hits / fastball_num_abs if fastball_num_abs > 0 else 0)\n",
    "fastball_batting_average = round(fastball_batting_average, 3)\n",
    "\n",
    "print(fastball_batting_average)\n",
    "print(fastball_obp)\n",
    "print(fastball_slug)\n",
    "print(fastball_slug + fastball_obp)"
   ]
  },
  {
   "cell_type": "code",
   "execution_count": 61,
   "id": "a5822346",
   "metadata": {},
   "outputs": [
    {
     "data": {
      "text/plain": [
       "0.252"
      ]
     },
     "execution_count": 61,
     "metadata": {},
     "output_type": "execute_result"
    }
   ],
   "source": [
    "breaking_ab_data = player_ab_data.filter(pl.col(\"pitch_description\").is_in(breaking_dict))\n",
    "breaking_hit_data = player_hit_data.filter(pl.col(\"pitch_description\").is_in(breaking_dict))\n",
    "\n",
    "breaking_num_abs = breaking_ab_data.height\n",
    "breaking_num_hits = breaking_hit_data.height\n",
    "\n",
    "breaking_batting_average = (breaking_num_hits / breaking_num_abs if breaking_num_abs > 0 else 0)\n",
    "breaking_batting_average = round(breaking_batting_average, 3)\n",
    "\n",
    "breaking_batting_average"
   ]
  },
  {
   "cell_type": "code",
   "execution_count": 62,
   "id": "d7c4e0c2",
   "metadata": {},
   "outputs": [
    {
     "data": {
      "text/plain": [
       "0.178"
      ]
     },
     "execution_count": 62,
     "metadata": {},
     "output_type": "execute_result"
    }
   ],
   "source": [
    "offspeed_ab_data = player_ab_data.filter(pl.col(\"pitch_description\").is_in(offspeed_dict))\n",
    "offspeed_hit_data = player_hit_data.filter(pl.col(\"pitch_description\").is_in(offspeed_dict))\n",
    "\n",
    "offspeed_num_abs = offspeed_ab_data.height\n",
    "offspeed_num_hits = offspeed_hit_data.height\n",
    "\n",
    "offspeed_batting_average = (offspeed_num_hits / offspeed_num_abs if offspeed_num_abs > 0 else 0)\n",
    "offspeed_batting_average = round(offspeed_batting_average, 3)\n",
    "\n",
    "offspeed_batting_average"
   ]
  },
  {
   "cell_type": "code",
   "execution_count": 70,
   "id": "599f7857",
   "metadata": {},
   "outputs": [
    {
     "name": "stdout",
     "output_type": "stream",
     "text": [
      "Wyatt Langford's 2025 Season Pitch Split Batting Average\n",
      "\n",
      "Overall Batting Average: 0.241 \n",
      "\n",
      "Fastball Batting Average: 0.248 \n",
      "\n",
      "Breaking Ball Batting Average: 0.252 \n",
      "\n",
      "Offspeed Batting Average: 0.178 \n",
      "\n"
     ]
    }
   ],
   "source": [
    "print(f\"{player_name}'s 2025 Season Pitch Split Batting Average\\n\")\n",
    "print(\"Overall Batting Average:\", batting_average, \"\\n\")\n",
    "print(\"Fastball Batting Average:\", fastball_batting_average, \"\\n\")\n",
    "print(\"Breaking Ball Batting Average:\", breaking_batting_average, \"\\n\")\n",
    "print(\"Offspeed Batting Average:\", offspeed_batting_average, \"\\n\")"
   ]
  }
 ],
 "metadata": {
  "kernelspec": {
   "display_name": "Python 3",
   "language": "python",
   "name": "python3"
  },
  "language_info": {
   "codemirror_mode": {
    "name": "ipython",
    "version": 3
   },
   "file_extension": ".py",
   "mimetype": "text/x-python",
   "name": "python",
   "nbconvert_exporter": "python",
   "pygments_lexer": "ipython3",
   "version": "3.10.6"
  }
 },
 "nbformat": 4,
 "nbformat_minor": 5
}
