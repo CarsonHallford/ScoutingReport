{
 "cells": [
  {
   "cell_type": "code",
   "execution_count": 9,
   "id": "627d05a7",
   "metadata": {},
   "outputs": [],
   "source": [
    "# Player Similiarity Program\n",
    "import pandas as pd\n",
    "import numpy as np\n",
    "import polars as pl\n",
    "from api_scraper import MLB_Scrape\n",
    "\n",
    "# Set display options to print all columns without truncation\n",
    "pd.set_option(\"display.max_columns\", None)  # Ensure all columns are displayed\n",
    "pd.set_option(\"display.max_rows\", None)  # Ensure all rows are displayed\n",
    "pd.set_option(\"display.width\", None)  # Remove column width limit"
   ]
  },
  {
   "cell_type": "code",
   "execution_count": 55,
   "id": "e961c461",
   "metadata": {},
   "outputs": [],
   "source": [
    "ab_flag_dict = {'Walk':0, 'Field Error': 1, 'Caught Stealing Home': 0, 'Strikeout Double Play': 1,\n",
    "                'Sac Fly Double Play': 0,   'Hit By Pitch': 0, 'Runner Out': 0, 'Triple Play': 1, \n",
    "                'Field Out': 1, 'Flyout': 1, 'Bunt Lineout': 1, 'Catcher Interference': 0, 'Fielders Choice': 1,\n",
    "                'Sac Bunt': 0, 'Pop Out': 1, 'Caught Stealing 2B': 0, 'Fielders Choice Out': 1, 'Stolen Base 2B': 0,\n",
    "                'Sac Fly': 0, 'Groundout': 1, 'Home Run': 1, 'Caught Stealing 3B': 0, 'Intent Walk': 0, 'Double Play': 1,\n",
    "                'Grounded Into DP': 1, 'Forceout': 1, 'Lineout': 1, 'Single': 1, 'Triple': 1, 'Wild Pitch': 0, 'Double': 1,\n",
    "                'Strikeout': 1, 'Bunt Groundout': 0, 'Bunt Pop Out': 0}\n",
    "\n",
    "ab_events = [event for event, flag in ab_flag_dict.items() if flag == 1]"
   ]
  },
  {
   "cell_type": "markdown",
   "id": "51b1815a",
   "metadata": {},
   "source": []
  },
  {
   "cell_type": "code",
   "execution_count": 41,
   "id": "7c117896",
   "metadata": {},
   "outputs": [
    {
     "name": "stdout",
     "output_type": "stream",
     "text": [
      "['Walk', 'Field Error', 'Caught Stealing Home', 'Strikeout Double Play', 'Sac Fly Double Play', 'Hit By Pitch', 'Runner Out', 'Triple Play', 'Field Out', 'Flyout', 'Bunt Lineout', 'Catcher Interference', 'Fielders Choice', 'Sac Bunt', 'Pop Out', 'Caught Stealing 2B', 'Fielders Choice Out', 'Stolen Base 2B', 'Sac Fly', None, 'Groundout', 'Home Run', 'Caught Stealing 3B', 'Intent Walk', 'Double Play', 'Grounded Into DP', 'Forceout', 'Lineout', 'Single', 'Triple', 'Wild Pitch', 'Double', 'Strikeout', 'Bunt Groundout', 'Bunt Pop Out']\n"
     ]
    }
   ],
   "source": [
    "data = pl.read_csv(\"2025_data.csv\")\n",
    "\n",
    "batters = pl.read_csv(\"batter_id.csv\")\n",
    "\n",
    "print(data[\"event\"].unique().to_list())"
   ]
  },
  {
   "cell_type": "code",
   "execution_count": null,
   "id": "2fff948c",
   "metadata": {},
   "outputs": [
    {
     "name": "stdout",
     "output_type": "stream",
     "text": [
      "244.5\n"
     ]
    }
   ],
   "source": [
    "player_data = data.filter(pl.col(\"batter_name\") == \"Wyatt Langford\")\n",
    "\n",
    "player_ab_data = player_data.filter(pl.col(\"event\").is_in(ab_events))\n",
    "\n",
    "num_abs = player_ab_data.height\n"
   ]
  }
 ],
 "metadata": {
  "kernelspec": {
   "display_name": "Python 3",
   "language": "python",
   "name": "python3"
  },
  "language_info": {
   "codemirror_mode": {
    "name": "ipython",
    "version": 3
   },
   "file_extension": ".py",
   "mimetype": "text/x-python",
   "name": "python",
   "nbconvert_exporter": "python",
   "pygments_lexer": "ipython3",
   "version": "3.10.6"
  }
 },
 "nbformat": 4,
 "nbformat_minor": 5
}
