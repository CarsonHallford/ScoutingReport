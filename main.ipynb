{
 "cells": [
  {
   "cell_type": "code",
   "execution_count": 1,
   "id": "627d05a7",
   "metadata": {},
   "outputs": [],
   "source": [
    "# Player Similiarity Program\n",
    "import pandas as pd\n",
    "import numpy as np\n",
    "import polars as pl\n",
    "from api_scraper import MLB_Scrape\n",
    "\n",
    "# Set display options to print all columns without truncation\n",
    "pd.set_option(\"display.max_columns\", None)  # Ensure all columns are displayed\n",
    "pd.set_option(\"display.max_rows\", None)  # Ensure all rows are displayed\n",
    "pd.set_option(\"display.width\", None)  # Remove column width limit"
   ]
  },
  {
   "cell_type": "code",
   "execution_count": 16,
   "id": "e961c461",
   "metadata": {},
   "outputs": [],
   "source": [
    "ab_flag_dict = {'Walk':0, 'Field Error': 1, 'Caught Stealing Home': 0, 'Strikeout Double Play': 1,\n",
    "                'Sac Fly Double Play': 0,   'Hit By Pitch': 0, 'Runner Out': 0, 'Triple Play': 1, \n",
    "                'Field Out': 1, 'Flyout': 1, 'Bunt Lineout': 1, 'Catcher Interference': 0, 'Fielders Choice': 1,\n",
    "                'Sac Bunt': 0, 'Pop Out': 1, 'Caught Stealing 2B': 0, 'Fielders Choice Out': 1, 'Stolen Base 2B': 0,\n",
    "                'Sac Fly': 0, 'Groundout': 1, 'Home Run': 1, 'Caught Stealing 3B': 0, 'Intent Walk': 0, 'Double Play': 1,\n",
    "                'Grounded Into DP': 1, 'Forceout': 1, 'Lineout': 1, 'Single': 1, 'Triple': 1, 'Wild Pitch': 0, 'Double': 1,\n",
    "                'Strikeout': 1, 'Bunt Groundout': 0, 'Bunt Pop Out': 0}\n",
    "\n",
    "ab_events = [event for event, flag in ab_flag_dict.items() if flag == 1]\n",
    "\n",
    "pa_flag_dict = {'Walk':1, 'Field Error': 1, 'Caught Stealing Home': 0, 'Strikeout Double Play': 1,\n",
    "                'Sac Fly Double Play': 1,   'Hit By Pitch': 1, 'Runner Out': 0, 'Triple Play': 1, \n",
    "                'Field Out': 1, 'Flyout': 1, 'Bunt Lineout': 1, 'Catcher Interference': 1, 'Fielders Choice': 1,\n",
    "                'Sac Bunt': 1, 'Pop Out': 1, 'Caught Stealing 2B': 0, 'Fielders Choice Out': 1, 'Stolen Base 2B': 0,\n",
    "                'Sac Fly': 1, 'Groundout': 1, 'Home Run': 1, 'Caught Stealing 3B': 0, 'Intent Walk': 1, 'Double Play': 1,\n",
    "                'Grounded Into DP': 1, 'Forceout': 1, 'Lineout': 1, 'Single': 1, 'Triple': 1, 'Wild Pitch': 0, 'Double': 1,\n",
    "                'Strikeout': 1, 'Bunt Groundout': 1, 'Bunt Pop Out': 1}\n",
    "\n",
    "pa_events = [event for event, flag in pa_flag_dict.items() if flag == 1]\n",
    "\n",
    "hit_flag_dict = {'Walk':0, 'Field Error': 0, 'Caught Stealing Home': 0, 'Strikeout Double Play': 0,\n",
    "                'Sac Fly Double Play': 0,   'Hit By Pitch': 0, 'Runner Out': 0, 'Triple Play': 0, \n",
    "                'Field Out': 0, 'Flyout': 0, 'Bunt Lineout': 0, 'Catcher Interference': 0, 'Fielders Choice': 0,\n",
    "                'Sac Bunt': 0, 'Pop Out': 0, 'Caught Stealing 2B': 0, 'Fielders Choice Out': 0, 'Stolen Base 2B': 0,\n",
    "                'Sac Fly': 0, 'Groundout': 0, 'Home Run': 1, 'Caught Stealing 3B': 0, 'Intent Walk': 0, 'Double Play': 0,\n",
    "                'Grounded Into DP': 0, 'Forceout': 0, 'Lineout': 0, 'Single': 1, 'Triple': 1, 'Wild Pitch': 0, 'Double': 1,\n",
    "                'Strikeout': 0, 'Bunt Groundout': 0, 'Bunt Pop Out': 0}\n",
    "\n",
    "hit_events = [event for event, flag in hit_flag_dict.items() if flag == 1]"
   ]
  },
  {
   "cell_type": "code",
   "execution_count": 55,
   "id": "7c117896",
   "metadata": {},
   "outputs": [],
   "source": [
    "data = pl.read_csv(\"2025_data.csv\")\n",
    "\n",
    "batters = pl.read_csv(\"batter_id.csv\")"
   ]
  },
  {
   "cell_type": "code",
   "execution_count": 57,
   "id": "2fff948c",
   "metadata": {},
   "outputs": [],
   "source": [
    "player_name = \"Wyatt Langford\"\n",
    "\n",
    "player_data = data.filter(pl.col(\"batter_name\") == player_name)\n",
    "\n",
    "player_ab_data = player_data.filter(pl.col(\"event\").is_in(ab_events))\n",
    "\n",
    "player_pa_data = player_data.filter(pl.col(\"event\").is_in(pa_events))\n",
    "\n",
    "player_hit_data = player_data.filter(pl.col(\"event\").is_in(hit_events))"
   ]
  },
  {
   "cell_type": "code",
   "execution_count": 58,
   "id": "d62bfe04",
   "metadata": {},
   "outputs": [
    {
     "data": {
      "text/plain": [
       "0.241"
      ]
     },
     "execution_count": 58,
     "metadata": {},
     "output_type": "execute_result"
    }
   ],
   "source": [
    "# Get number of at-bats and hits\n",
    "num_abs = player_ab_data.height\n",
    "num_hits = player_hit_data.height\n",
    "\n",
    "# Calculate batting average\n",
    "batting_average = (num_hits / num_abs if num_abs > 0 else 0)\n",
    "\n",
    "# Round to three decimal places\n",
    "batting_average = round(batting_average, 3)\n",
    "\n",
    "batting_average"
   ]
  },
  {
   "cell_type": "code",
   "execution_count": 59,
   "id": "2398b959",
   "metadata": {},
   "outputs": [],
   "source": [
    "fastball_dict = {'Four-Seam Fastball': 1, 'Sinker': 1, 'Cutter': 1}\n",
    "\n",
    "offspeed_dict = {'Splitter': 1, 'Changeup': 1, 'Forkball': 1, 'Screwball': 1}\n",
    "\n",
    "breaking_dict = {'Curveball': 1, 'Knuckle Ball': 1, 'Knuckle Curve': 1, 'Slider': 1, \n",
    "                 'Sweeper': 1, 'Slurve': 1, 'Slow Curve': 1}"
   ]
  },
  {
   "cell_type": "code",
   "execution_count": 83,
   "id": "ce46ee31",
   "metadata": {},
   "outputs": [
    {
     "name": "stdout",
     "output_type": "stream",
     "text": [
      "Fastball AVG: 0.248\n",
      "Fastball OBP: 0.359\n",
      "Fastball SLG: 0.483\n",
      "Fastball OPS: 0.842\n"
     ]
    }
   ],
   "source": [
    "# Helper function for counting fastball events\n",
    "def count_fastball_events(events):\n",
    "    return player_data.filter(\n",
    "        pl.col(\"pitch_description\").is_in(fastball_dict) &\n",
    "        pl.col(\"event\").is_in(events)\n",
    "    ).height\n",
    "\n",
    "# ABs and PA for fastballs\n",
    "fastball_num_abs = count_fastball_events(ab_events)\n",
    "fastball_num_pa = count_fastball_events(pa_events)\n",
    "\n",
    "# Hits for fastballs\n",
    "fastball_num_hits = count_fastball_events(hit_events)\n",
    "\n",
    "# Batting Average\n",
    "fastball_batting_average = round(\n",
    "    fastball_num_hits / fastball_num_abs if fastball_num_abs > 0 else 0,\n",
    "    3\n",
    ")\n",
    "\n",
    "# Slugging Percentage\n",
    "fastball_slug = round(\n",
    "    (\n",
    "        1 * count_fastball_events([\"Single\"]) +\n",
    "        2 * count_fastball_events([\"Double\"]) +\n",
    "        3 * count_fastball_events([\"Triple\"]) +\n",
    "        4 * count_fastball_events([\"Home Run\"])\n",
    "    ) / fastball_num_abs if fastball_num_abs > 0 else 0,\n",
    "    3\n",
    ")\n",
    "\n",
    "# On-Base Percentage\n",
    "fastball_obp = round(\n",
    "    (fastball_num_hits + count_fastball_events([\"Walk\", \"Hit By Pitch\"])) /\n",
    "    fastball_num_pa if fastball_num_pa > 0 else 0,\n",
    "    3\n",
    ")\n",
    "\n",
    "print(f\"Fastball AVG: {fastball_batting_average}\")\n",
    "print(f\"Fastball OBP: {fastball_obp}\")\n",
    "print(f\"Fastball SLG: {fastball_slug}\")\n",
    "print(f\"Fastball OPS: {fastball_slug + fastball_obp}\")\n"
   ]
  },
  {
   "cell_type": "code",
   "execution_count": 85,
   "id": "64a48731",
   "metadata": {},
   "outputs": [
    {
     "name": "stdout",
     "output_type": "stream",
     "text": [
      "Fastball Stats: {'AVG': 0.248, 'OBP': 0.359, 'SLG': 0.483, 'OPS': 0.842}\n",
      "Breaking Ball Stats: {'AVG': 0.252, 'OBP': 0.321, 'SLG': 0.366, 'OPS': 0.687}\n",
      "Offspeed Stats: {'AVG': 0.178, 'OBP': 0.286, 'SLG': 0.288, 'OPS': 0.574}\n"
     ]
    }
   ],
   "source": [
    "# Helper function to calculate pitch group stats\n",
    "def calculate_pitch_group_stats(pitch_dict):\n",
    "    def count_events(events):\n",
    "        return player_data.filter(\n",
    "            pl.col(\"pitch_description\").is_in(pitch_dict) &\n",
    "            pl.col(\"event\").is_in(events)\n",
    "        ).height\n",
    "    \n",
    "    # ABs, Hits, and OBP denominator (exclude sac bunts)\n",
    "    num_ab = count_events(ab_events)\n",
    "    num_hits = count_events(hit_events)\n",
    "    obp_denom = count_events([e for e in pa_events if e != \"Sac Bunt\"])\n",
    "    \n",
    "    # Batting Average\n",
    "    avg = round(num_hits / num_ab if num_ab > 0 else 0, 3)\n",
    "    \n",
    "    # On-Base Percentage\n",
    "    obp = round(\n",
    "        (num_hits + count_events([\"Walk\", \"Hit By Pitch\"])) / obp_denom if obp_denom > 0 else 0,\n",
    "        3\n",
    "    )\n",
    "    \n",
    "    # Slugging Percentage\n",
    "    slg = round(\n",
    "        (1*count_events([\"Single\"]) + 2*count_events([\"Double\"]) +\n",
    "         3*count_events([\"Triple\"]) + 4*count_events([\"Home Run\"])) / num_ab if num_ab > 0 else 0,\n",
    "        3\n",
    "    )\n",
    "\n",
    "    ops = round(obp + slg, 3)\n",
    "\n",
    "    return {\"AVG\": avg, \"OBP\": obp, \"SLG\": slg, \"OPS\": ops}\n",
    "\n",
    "# Calculate stats for each pitch group\n",
    "fastball_stats = calculate_pitch_group_stats(fastball_dict)\n",
    "breaking_stats = calculate_pitch_group_stats(breaking_dict)\n",
    "offspeed_stats = calculate_pitch_group_stats(offspeed_dict)\n",
    "\n",
    "print(\"Fastball Stats:\", fastball_stats)\n",
    "print(\"Breaking Ball Stats:\", breaking_stats)\n",
    "print(\"Offspeed Stats:\", offspeed_stats)\n"
   ]
  },
  {
   "cell_type": "code",
   "execution_count": 61,
   "id": "a5822346",
   "metadata": {},
   "outputs": [
    {
     "data": {
      "text/plain": [
       "0.252"
      ]
     },
     "execution_count": 61,
     "metadata": {},
     "output_type": "execute_result"
    }
   ],
   "source": [
    "breaking_ab_data = player_ab_data.filter(pl.col(\"pitch_description\").is_in(breaking_dict))\n",
    "breaking_hit_data = player_hit_data.filter(pl.col(\"pitch_description\").is_in(breaking_dict))\n",
    "\n",
    "breaking_num_abs = breaking_ab_data.height\n",
    "breaking_num_hits = breaking_hit_data.height\n",
    "\n",
    "breaking_batting_average = (breaking_num_hits / breaking_num_abs if breaking_num_abs > 0 else 0)\n",
    "breaking_batting_average = round(breaking_batting_average, 3)\n",
    "\n",
    "breaking_batting_average"
   ]
  },
  {
   "cell_type": "code",
   "execution_count": 62,
   "id": "d7c4e0c2",
   "metadata": {},
   "outputs": [
    {
     "data": {
      "text/plain": [
       "0.178"
      ]
     },
     "execution_count": 62,
     "metadata": {},
     "output_type": "execute_result"
    }
   ],
   "source": [
    "offspeed_ab_data = player_ab_data.filter(pl.col(\"pitch_description\").is_in(offspeed_dict))\n",
    "offspeed_hit_data = player_hit_data.filter(pl.col(\"pitch_description\").is_in(offspeed_dict))\n",
    "\n",
    "offspeed_num_abs = offspeed_ab_data.height\n",
    "offspeed_num_hits = offspeed_hit_data.height\n",
    "\n",
    "offspeed_batting_average = (offspeed_num_hits / offspeed_num_abs if offspeed_num_abs > 0 else 0)\n",
    "offspeed_batting_average = round(offspeed_batting_average, 3)\n",
    "\n",
    "offspeed_batting_average"
   ]
  },
  {
   "cell_type": "code",
   "execution_count": 70,
   "id": "599f7857",
   "metadata": {},
   "outputs": [
    {
     "name": "stdout",
     "output_type": "stream",
     "text": [
      "Wyatt Langford's 2025 Season Pitch Split Batting Average\n",
      "\n",
      "Overall Batting Average: 0.241 \n",
      "\n",
      "Fastball Batting Average: 0.248 \n",
      "\n",
      "Breaking Ball Batting Average: 0.252 \n",
      "\n",
      "Offspeed Batting Average: 0.178 \n",
      "\n"
     ]
    }
   ],
   "source": [
    "print(f\"{player_name}'s 2025 Season Pitch Split Batting Average\\n\")\n",
    "print(\"Overall Batting Average:\", batting_average, \"\\n\")\n",
    "print(\"Fastball Batting Average:\", fastball_batting_average, \"\\n\")\n",
    "print(\"Breaking Ball Batting Average:\", breaking_batting_average, \"\\n\")\n",
    "print(\"Offspeed Batting Average:\", offspeed_batting_average, \"\\n\")"
   ]
  }
 ],
 "metadata": {
  "kernelspec": {
   "display_name": "Python 3",
   "language": "python",
   "name": "python3"
  },
  "language_info": {
   "codemirror_mode": {
    "name": "ipython",
    "version": 3
   },
   "file_extension": ".py",
   "mimetype": "text/x-python",
   "name": "python",
   "nbconvert_exporter": "python",
   "pygments_lexer": "ipython3",
   "version": "3.10.6"
  }
 },
 "nbformat": 4,
 "nbformat_minor": 5
}
