{
 "cells": [
  {
   "cell_type": "code",
   "execution_count": 168,
   "id": "627d05a7",
   "metadata": {},
   "outputs": [],
   "source": [
    "# Player Similiarity Program\n",
    "import pandas as pd\n",
    "import numpy as np\n",
    "import polars as pl\n",
    "from api_scraper import MLB_Scrape\n",
    "\n",
    "# Set display options to print all columns without truncation\n",
    "pd.set_option(\"display.max_columns\", None)  # Ensure all columns are displayed\n",
    "pd.set_option(\"display.max_rows\", None)  # Ensure all rows are displayed\n",
    "pd.set_option(\"display.width\", None)  # Remove column width limit"
   ]
  },
  {
   "cell_type": "code",
   "execution_count": null,
   "id": "e961c461",
   "metadata": {},
   "outputs": [],
   "source": [
    "ab_flag_dict = {'Walk':0, 'Field Error': 1, 'Caught Stealing Home': 0, 'Strikeout Double Play': 1,\n",
    "                'Sac Fly Double Play': 0,   'Hit By Pitch': 0, 'Runner Out': 0, 'Triple Play': 1, \n",
    "                'Field Out': 1, 'Flyout': 1, 'Bunt Lineout': 1, 'Catcher Interference': 0, 'Fielders Choice': 1,\n",
    "                'Sac Bunt': 0, 'Pop Out': 1, 'Caught Stealing 2B': 0, 'Fielders Choice Out': 1, 'Stolen Base 2B': 0,\n",
    "                'Sac Fly': 0, 'Groundout': 1, 'Home Run': 1, 'Caught Stealing 3B': 0, 'Intent Walk': 0, 'Double Play': 1,\n",
    "                'Grounded Into DP': 1, 'Forceout': 1, 'Lineout': 1, 'Single': 1, 'Triple': 1, 'Wild Pitch': 0, 'Double': 1,\n",
    "                'Strikeout': 1, 'Bunt Groundout': 0, 'Bunt Pop Out': 0}\n",
    "\n",
    "ab_events = [event for event, flag in ab_flag_dict.items() if flag == 1]\n",
    "\n",
    "pa_flag_dict = {'Walk':1, 'Field Error': 1, 'Caught Stealing Home': 0, 'Strikeout Double Play': 1,\n",
    "                'Sac Fly Double Play': 1,   'Hit By Pitch': 1, 'Runner Out': 0, 'Triple Play': 1, \n",
    "                'Field Out': 1, 'Flyout': 1, 'Bunt Lineout': 1, 'Catcher Interference': 1, 'Fielders Choice': 1,\n",
    "                'Sac Bunt': 1, 'Pop Out': 1, 'Caught Stealing 2B': 0, 'Fielders Choice Out': 1, 'Stolen Base 2B': 0,\n",
    "                'Sac Fly': 1, 'Groundout': 1, 'Home Run': 1, 'Caught Stealing 3B': 0, 'Intent Walk': 1, 'Double Play': 1,\n",
    "                'Grounded Into DP': 1, 'Forceout': 1, 'Lineout': 1, 'Single': 1, 'Triple': 1, 'Wild Pitch': 0, 'Double': 1,\n",
    "                'Strikeout': 1, 'Bunt Groundout': 1, 'Bunt Pop Out': 1}\n",
    "\n",
    "pa_events = [event for event, flag in pa_flag_dict.items() if flag == 1]\n",
    "\n",
    "hit_flag_dict = {'Walk':0, 'Field Error': 0, 'Caught Stealing Home': 0, 'Strikeout Double Play': 0,\n",
    "                'Sac Fly Double Play': 0,   'Hit By Pitch': 0, 'Runner Out': 0, 'Triple Play': 0, \n",
    "                'Field Out': 0, 'Flyout': 0, 'Bunt Lineout': 0, 'Catcher Interference': 0, 'Fielders Choice': 0,\n",
    "                'Sac Bunt': 0, 'Pop Out': 0, 'Caught Stealing 2B': 0, 'Fielders Choice Out': 0, 'Stolen Base 2B': 0,\n",
    "                'Sac Fly': 0, 'Groundout': 0, 'Home Run': 1, 'Caught Stealing 3B': 0, 'Intent Walk': 0, 'Double Play': 0,\n",
    "                'Grounded Into DP': 0, 'Forceout': 0, 'Lineout': 0, 'Single': 1, 'Triple': 1, 'Wild Pitch': 0, 'Double': 1,\n",
    "                'Strikeout': 0, 'Bunt Groundout': 0, 'Bunt Pop Out': 0}\n",
    "\n",
    "hit_events = [event for event, flag in hit_flag_dict.items() if flag == 1]\n",
    "\n",
    "# Function to calculate on-base percentage\n",
    "obp_denom_dict = {\n",
    "    event: 1 for event in ab_flag_dict if ab_flag_dict[event] == 1  # ABs\n",
    "}\n",
    "\n",
    "# Include BB, HBP, SF explicitly\n",
    "for event in [\"Walk\", \"Intent Walk\", \"Hit By Pitch\", \"Sac Fly\"]:\n",
    "    obp_denom_dict[event] = 1\n",
    "\n",
    "# Exclude Sac Bunt if it was included\n",
    "if \"Sac Bunt\" in obp_denom_dict:\n",
    "    obp_denom_dict[\"Sac Bunt\"] = 0\n",
    "\n",
    "# Create a list of events to use in counting\n",
    "obp_denom_events = [event for event, flag in obp_denom_dict.items() if flag == 1]"
   ]
  },
  {
   "cell_type": "code",
   "execution_count": 170,
   "id": "7c117896",
   "metadata": {},
   "outputs": [],
   "source": [
    "data = pl.read_csv(\"2025_data.csv\")\n",
    "\n",
    "batters = pl.read_csv(\"batter_id.csv\")"
   ]
  },
  {
   "cell_type": "code",
   "execution_count": 171,
   "id": "2fff948c",
   "metadata": {},
   "outputs": [
    {
     "data": {
      "text/plain": [
       "'bughit = player_data.filter((pl.col(\"pitch_description\") == \"Knuckle Curve\") & (pl.col(\"event\").is_in(hit_events)))\\nbugab = player_data.filter((pl.col(\"pitch_description\") == \"Knuckle Curve\") & (pl.col(\"event\").is_in(ab_events)))\\n\\nhits = bughit.height\\nabs = bugab.height\\n\\nprint(hits, abs)\\n\\nbugab'"
      ]
     },
     "execution_count": 171,
     "metadata": {},
     "output_type": "execute_result"
    }
   ],
   "source": [
    "player_name = \"Wyatt Langford\"\n",
    "\n",
    "player_data = data.filter(pl.col(\"batter_name\") == player_name)\n",
    "\n",
    "player_ab_data = player_data.filter(pl.col(\"event\").is_in(ab_events))\n",
    "\n",
    "player_pa_data = player_data.filter(pl.col(\"event\").is_in(pa_events))\n",
    "\n",
    "player_hit_data = player_data.filter(pl.col(\"event\").is_in(hit_events))\n",
    "\n",
    "\"\"\"bughit = player_data.filter((pl.col(\"pitch_description\") == \"Knuckle Curve\") & (pl.col(\"event\").is_in(hit_events)))\n",
    "bugab = player_data.filter((pl.col(\"pitch_description\") == \"Knuckle Curve\") & (pl.col(\"event\").is_in(ab_events)))\n",
    "\n",
    "hits = bughit.height\n",
    "abs = bugab.height\n",
    "\n",
    "print(hits, abs)\n",
    "\n",
    "bugab\"\"\""
   ]
  },
  {
   "cell_type": "code",
   "execution_count": 172,
   "id": "d62bfe04",
   "metadata": {},
   "outputs": [
    {
     "name": "stdout",
     "output_type": "stream",
     "text": [
      "Wyatt Langford - AVG: 0.241, OBP: 0.344, SLG: 0.431, OPS: 0.775\n"
     ]
    }
   ],
   "source": [
    "# Filter data for the player\n",
    "player_data = data.filter(pl.col(\"batter_name\") == player_name)\n",
    "\n",
    "# Helper function for counting events\n",
    "def count_player_events(events):\n",
    "    return player_data.filter(pl.col(\"event\").is_in(events)).height\n",
    "\n",
    "# Count ABs, Hits, OBP denominator (exclude Sac Bunt)\n",
    "num_ab = count_player_events(ab_events)\n",
    "num_hits = count_player_events(hit_events)\n",
    "obp_denom = count_player_events(obp_denom_events)\n",
    "\n",
    "# Batting Average\n",
    "batting_average = round(num_hits / num_ab if num_ab > 0 else 0, 3)\n",
    "\n",
    "# On-Base Percentage\n",
    "on_base_percentage = round(\n",
    "    (num_hits + count_player_events([\"Walk\",\"Intent Walk\" ,\"Hit By Pitch\"])) / obp_denom if obp_denom > 0 else 0,\n",
    "    3\n",
    ")\n",
    "\n",
    "# Slugging Percentage\n",
    "slugging_percentage = round(\n",
    "    (1*count_player_events([\"Single\"]) + 2*count_player_events([\"Double\"]) +\n",
    "     3*count_player_events([\"Triple\"]) + 4*count_player_events([\"Home Run\"])) / num_ab if num_ab > 0 else 0,\n",
    "    3\n",
    ")\n",
    "\n",
    "# OPS (On-base Plus Slugging)\n",
    "ops = round(on_base_percentage + slugging_percentage, 3)\n",
    "\n",
    "# Output\n",
    "print(f\"{player_name} - AVG: {batting_average}, OBP: {on_base_percentage}, SLG: {slugging_percentage}, OPS: {ops}\")\n"
   ]
  },
  {
   "cell_type": "code",
   "execution_count": 173,
   "id": "2398b959",
   "metadata": {},
   "outputs": [],
   "source": [
    "fastball_dict = {'Four-Seam Fastball': 1, 'Sinker': 1, 'Cutter': 1}\n",
    "\n",
    "offspeed_dict = {'Splitter': 1, 'Changeup': 1, 'Forkball': 1, 'Screwball': 1}\n",
    "\n",
    "breaking_dict = {'Curveball': 1, 'Knuckle Ball': 1, 'Knuckle Curve': 1, 'Slider': 1, \n",
    "                 'Sweeper': 1, 'Slurve': 1, 'Slow Curve': 1}"
   ]
  },
  {
   "cell_type": "code",
   "execution_count": 177,
   "id": "64a48731",
   "metadata": {},
   "outputs": [
    {
     "name": "stdout",
     "output_type": "stream",
     "text": [
      "Wyatt Langford Overall Stats: AVG: 0.241, OBP: 0.344, SLG: 0.431, OPS: 0.775\n",
      "Fastball Stats: AVG: 0.248, OBP: 0.359, SLG: 0.483, OPS: 0.842\n",
      "Breaking Ball Stats: AVG: 0.252, OBP: 0.321, SLG: 0.366, OPS: 0.687\n",
      "Offspeed Stats: AVG: 0.178, OBP: 0.286, SLG: 0.288, OPS: 0.574\n"
     ]
    }
   ],
   "source": [
    "# Helper function to calculate pitch group stats\n",
    "def calculate_pitch_group_stats(pitch_dict):\n",
    "    def count_events(events):\n",
    "        return player_data.filter(\n",
    "            pl.col(\"pitch_description\").is_in(pitch_dict) &\n",
    "            pl.col(\"event\").is_in(events)\n",
    "        ).height\n",
    "    \n",
    "    # ABs, Hits, and OBP denominator (exclude sac bunts)\n",
    "    num_ab = count_events(ab_events)\n",
    "    num_hits = count_events(hit_events)\n",
    "    obp_denom = count_events(obp_denom_events)\n",
    "    \n",
    "    # Batting Average\n",
    "    avg = round(num_hits / num_ab if num_ab > 0 else 0, 3)\n",
    "    \n",
    "    # On-Base Percentage\n",
    "    obp = round(\n",
    "        (num_hits + count_events([\"Walk\", \"Intent Walk\", \"Hit By Pitch\"])) / obp_denom if obp_denom > 0 else 0,\n",
    "        3\n",
    "    )\n",
    "    \n",
    "    # Slugging Percentage\n",
    "    slg = round(\n",
    "        (1*count_events([\"Single\"]) + 2*count_events([\"Double\"]) +\n",
    "         3*count_events([\"Triple\"]) + 4*count_events([\"Home Run\"])) / num_ab if num_ab > 0 else 0,\n",
    "        3\n",
    "    )\n",
    "\n",
    "    ops = round(obp + slg, 3)\n",
    "\n",
    "    return {\"AVG\": avg, \"OBP\": obp, \"SLG\": slg, \"OPS\": ops}\n",
    "\n",
    "# Calculate stats for each pitch group\n",
    "fastball_stats = calculate_pitch_group_stats(fastball_dict)\n",
    "breaking_stats = calculate_pitch_group_stats(breaking_dict)\n",
    "offspeed_stats = calculate_pitch_group_stats(offspeed_dict)\n",
    "\n",
    "print(f\"{player_name} Overall Stats: AVG: {batting_average}, OBP: {on_base_percentage}, SLG: {slugging_percentage}, OPS: {ops}\")\n",
    "print(f\"Fastball Stats: AVG: {fastball_stats['AVG']}, OBP: {fastball_stats['OBP']}, SLG: {fastball_stats['SLG']}, OPS: {fastball_stats['OPS']}\")\n",
    "print(f\"Breaking Ball Stats: AVG: {breaking_stats['AVG']}, OBP: {breaking_stats['OBP']}, SLG: {breaking_stats['SLG']}, OPS: {breaking_stats['OPS']}\")\n",
    "print(f\"Offspeed Stats: AVG: {offspeed_stats['AVG']}, OBP: {offspeed_stats['OBP']}, SLG: {offspeed_stats['SLG']}, OPS: {offspeed_stats['OPS']}\")\n",
    "\n"
   ]
  }
 ],
 "metadata": {
  "kernelspec": {
   "display_name": "Python 3",
   "language": "python",
   "name": "python3"
  },
  "language_info": {
   "codemirror_mode": {
    "name": "ipython",
    "version": 3
   },
   "file_extension": ".py",
   "mimetype": "text/x-python",
   "name": "python",
   "nbconvert_exporter": "python",
   "pygments_lexer": "ipython3",
   "version": "3.10.6"
  }
 },
 "nbformat": 4,
 "nbformat_minor": 5
}
